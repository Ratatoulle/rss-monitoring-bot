{
 "cells": [
  {
   "cell_type": "code",
   "execution_count": 55,
   "metadata": {},
   "outputs": [
    {
     "ename": "Exception",
     "evalue": "Ill-formed XML file.",
     "output_type": "error",
     "traceback": [
      "\u001b[1;31m---------------------------------------------------------------------------\u001b[0m",
      "\u001b[1;31mException\u001b[0m                                 Traceback (most recent call last)",
      "Cell \u001b[1;32mIn[55], line 22\u001b[0m\n\u001b[0;32m     20\u001b[0m \u001b[39mtry\u001b[39;00m:\n\u001b[0;32m     21\u001b[0m     \u001b[39mif\u001b[39;00m d\u001b[39m.\u001b[39mbozo:\n\u001b[1;32m---> 22\u001b[0m         \u001b[39mraise\u001b[39;00m \u001b[39mException\u001b[39;00m(\u001b[39m\"\u001b[39m\u001b[39mIll-formed XML file.\u001b[39m\u001b[39m\"\u001b[39m)\n\u001b[0;32m     23\u001b[0m     \u001b[39mprint\u001b[39m(d\u001b[39m.\u001b[39mfeed\u001b[39m.\u001b[39mtitle)\n\u001b[0;32m     24\u001b[0m     \u001b[39mfor\u001b[39;00m entry \u001b[39min\u001b[39;00m d\u001b[39m.\u001b[39mentries:\n",
      "\u001b[1;31mException\u001b[0m: Ill-formed XML file."
     ]
    }
   ],
   "source": [
    "import feedparser\n",
    "from pprint import pprint\n",
    "\n",
    "urls = [\n",
    "    \"https://dostup1.ru/rss/\",\n",
    "    \"http://static.feed.rbc.ru/rbc/logical/footer/news.rss\",\n",
    "    \"https://ura.news/rss\",\n",
    "    \"https://pravmin.gov74.ru/prav/rss/news.htm\",\n",
    "    \"https://www.kommersant.ru/RSS/main.xml\",\n",
    "    \"https://www.rg.ru/xml/index.xml\",\n",
    "    \"https://www.rt.com/rss/\", # error\n",
    "    \"https://www.vedomosti.ru/rss/news.xml\", # error\n",
    "    \"https://iz.ru/xml/rss/all.xml\", # error\n",
    "]\n",
    "\n",
    "d = feedparser.parse(urls[7])\n",
    "\n",
    "# проверять guid на то, является ли guid ссылкой на ресурс\n",
    "# за это отвечает тег guidislink/isPermaLink\n",
    "try:\n",
    "    if d.bozo:\n",
    "        raise Exception(\"Ill-formed XML file.\")\n",
    "    print(d.feed.title)\n",
    "    for entry in d.entries:\n",
    "        print(entry.title)\n",
    "        print(entry.description)\n",
    "        print(entry.link)\n",
    "except (KeyError, AttributeError):\n",
    "    print(\"No such key\")"
   ]
  }
 ],
 "metadata": {
  "kernelspec": {
   "display_name": "venv",
   "language": "python",
   "name": "python3"
  },
  "language_info": {
   "codemirror_mode": {
    "name": "ipython",
    "version": 3
   },
   "file_extension": ".py",
   "mimetype": "text/x-python",
   "name": "python",
   "nbconvert_exporter": "python",
   "pygments_lexer": "ipython3",
   "version": "3.11.4"
  },
  "orig_nbformat": 4
 },
 "nbformat": 4,
 "nbformat_minor": 2
}
